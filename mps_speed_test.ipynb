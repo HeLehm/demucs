{
 "cells": [
  {
   "cell_type": "code",
   "execution_count": 1,
   "metadata": {},
   "outputs": [],
   "source": [
    "from demucs import pretrained\n",
    "import torch\n",
    "from demucs.apply import apply_model\n",
    "import timeit\n",
    "import gc"
   ]
  },
  {
   "cell_type": "code",
   "execution_count": 2,
   "metadata": {},
   "outputs": [],
   "source": [
    "models_to_test = ['mdx', 'htdemucs', 'htdemucs_ft', 'htdemucs_6s', 'hdemucs_mmi', 'mdx_extra']"
   ]
  },
  {
   "attachments": {},
   "cell_type": "markdown",
   "metadata": {},
   "source": [
    "## Env\n",
    "### Hardware\n",
    "- 2022 MacBook Pro\n",
    "- Apple M2 Chip\n",
    "- 24 GB RAM\n",
    "### Software\n",
    "- Python 3.10.11\n",
    "- torch-2.1.0.dev20230601\n",
    "-  torchaudio-2.1.0.dev20230601"
   ]
  },
  {
   "cell_type": "code",
   "execution_count": 5,
   "metadata": {},
   "outputs": [],
   "source": [
    "def time_model(model_name, device, grad=False, n=3):\n",
    "    model = pretrained.get_model(model_name)\n",
    "    x = torch.randn(1, 2, 44100 * 30).to(device=device)  # 30 seconds of white noise for the test\n",
    "    \n",
    "    if grad:\n",
    "        time = timeit.timeit(lambda: apply_model(model, x, device=device), number=n)\n",
    "    else:\n",
    "        with torch.no_grad():\n",
    "            time = timeit.timeit(lambda: apply_model(model, x, device=device), number=n)\n",
    "\n",
    "    del model\n",
    "    del x\n",
    "    gc.collect()\n",
    "\n",
    "    time /= float(n)\n",
    "    return time"
   ]
  },
  {
   "cell_type": "code",
   "execution_count": 6,
   "metadata": {},
   "outputs": [
    {
     "name": "stdout",
     "output_type": "stream",
     "text": [
      "Testing mdx with gradients\n",
      "CPU time: 21.26s, MPS time: 11.79s\n",
      "Speedup: 1.80x\n",
      "\n",
      "Testing mdx without gradients\n",
      "CPU time: 21.26s, MPS time: 13.40s\n",
      "Speedup: 1.59x\n",
      "\n",
      "Testing htdemucs with gradients\n",
      "CPU time: 17.18s, MPS time: 6.94s\n",
      "Speedup: 2.48x\n",
      "\n",
      "Testing htdemucs without gradients\n",
      "CPU time: 17.19s, MPS time: 4.23s\n",
      "Speedup: 4.06x\n",
      "\n",
      "Testing htdemucs_ft with gradients\n",
      "CPU time: 68.47s, MPS time: 16.78s\n",
      "Speedup: 4.08x\n",
      "\n",
      "Testing htdemucs_ft without gradients\n",
      "CPU time: 67.96s, MPS time: 16.69s\n",
      "Speedup: 4.07x\n",
      "\n",
      "Testing htdemucs_6s with gradients\n",
      "CPU time: 17.09s, MPS time: 4.86s\n",
      "Speedup: 3.52x\n",
      "\n",
      "Testing htdemucs_6s without gradients\n",
      "CPU time: 16.52s, MPS time: 4.28s\n",
      "Speedup: 3.86x\n",
      "\n",
      "Testing hdemucs_mmi with gradients\n",
      "CPU time: 6.60s, MPS time: 5.83s\n",
      "Speedup: 1.13x\n",
      "\n",
      "Testing hdemucs_mmi without gradients\n",
      "CPU time: 6.60s, MPS time: 3.85s\n",
      "Speedup: 1.71x\n",
      "\n",
      "Testing mdx_extra with gradients\n",
      "CPU time: 26.35s, MPS time: 28.73s\n",
      "Speedup: 0.92x\n",
      "\n",
      "Testing mdx_extra without gradients\n",
      "CPU time: 26.07s, MPS time: 22.78s\n",
      "Speedup: 1.14x\n",
      "\n"
     ]
    }
   ],
   "source": [
    "n = 1\n",
    "\n",
    "for model_name in models_to_test:\n",
    "    for grad in [True, False]:\n",
    "        print(f\"Testing {model_name} {'with' if grad else 'without'} gradients\")\n",
    "        \n",
    "        cpu_time = time_model(model_name, 'cpu', grad=grad, n=n)\n",
    "        mps_time = time_model(model_name, 'mps', grad=grad, n=n)\n",
    "\n",
    "        print(f\"CPU time: {cpu_time:.2f}s, MPS time: {mps_time:.2f}s\")\n",
    "        print(f\"Speedup: {cpu_time / mps_time:.2f}x\")\n",
    "        print()\n",
    "\n"
   ]
  },
  {
   "cell_type": "code",
   "execution_count": null,
   "metadata": {},
   "outputs": [],
   "source": []
  }
 ],
 "metadata": {
  "kernelspec": {
   "display_name": "audio",
   "language": "python",
   "name": "python3"
  },
  "language_info": {
   "codemirror_mode": {
    "name": "ipython",
    "version": 3
   },
   "file_extension": ".py",
   "mimetype": "text/x-python",
   "name": "python",
   "nbconvert_exporter": "python",
   "pygments_lexer": "ipython3",
   "version": "3.10.11"
  },
  "orig_nbformat": 4
 },
 "nbformat": 4,
 "nbformat_minor": 2
}
