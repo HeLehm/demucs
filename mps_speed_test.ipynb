{
 "cells": [
  {
   "cell_type": "code",
   "execution_count": 2,
   "metadata": {},
   "outputs": [],
   "source": [
    "from demucs import pretrained\n",
    "import torch\n",
    "from demucs.apply import apply_model\n",
    "import timeit"
   ]
  },
  {
   "cell_type": "code",
   "execution_count": 8,
   "metadata": {},
   "outputs": [],
   "source": [
    "x = torch.randn(1, 2, 44100 * 30)  # 30 seconds of white noise for the test\n",
    "models_to_test = ['mdx', 'htdemucs', 'htdemucs_ft', 'htdemucs_6s', 'hdemucs_mmi', 'mdx_extra']"
   ]
  },
  {
   "attachments": {},
   "cell_type": "markdown",
   "metadata": {},
   "source": [
    "## Env\n",
    "### Hardware\n",
    "- 2022 MacBook Pro\n",
    "- Apple M2 Chip\n",
    "- 24 GB RAM\n",
    "### Software\n",
    "- Python 3.10.11\n",
    "- torch-2.1.0.dev20230601\n",
    "-  torchaudio-2.1.0.dev20230601"
   ]
  },
  {
   "cell_type": "code",
   "execution_count": 9,
   "metadata": {},
   "outputs": [
    {
     "name": "stdout",
     "output_type": "stream",
     "text": [
      "Testing mdx\n",
      "CPU time: 67.53s, MPS time: 224.81s\n",
      "Speedup: 0.30x\n",
      "\n",
      "Testing htdemucs\n",
      "CPU time: 52.90s, MPS time: 14.44s\n",
      "Speedup: 3.66x\n",
      "\n",
      "Testing htdemucs_ft\n",
      "CPU time: 210.97s, MPS time: 49.38s\n",
      "Speedup: 4.27x\n",
      "\n",
      "Testing htdemucs_6s\n",
      "CPU time: 50.26s, MPS time: 12.76s\n",
      "Speedup: 3.94x\n",
      "\n",
      "Testing hdemucs_mmi\n",
      "CPU time: 21.59s, MPS time: 62.02s\n",
      "Speedup: 0.35x\n",
      "\n",
      "Testing mdx_extra\n",
      "CPU time: 79.57s, MPS time: 210.56s\n",
      "Speedup: 0.38x\n",
      "\n"
     ]
    }
   ],
   "source": [
    "for model_name in models_to_test:\n",
    "    model = pretrained.get_model(model_name)\n",
    "    \n",
    "    print(f\"Testing {model_name}\")\n",
    "\n",
    "    mps_time = timeit.timeit(lambda: apply_model(model, x, device='mps'), number=3)\n",
    "    cpu_time = timeit.timeit(lambda: apply_model(model, x, device='cpu'), number=3)\n",
    "\n",
    "    print(f\"CPU time: {cpu_time:.2f}s, MPS time: {mps_time:.2f}s\")\n",
    "    print(f\"Speedup: {cpu_time / mps_time:.2f}x\")\n",
    "    print()"
   ]
  }
 ],
 "metadata": {
  "kernelspec": {
   "display_name": "audio",
   "language": "python",
   "name": "python3"
  },
  "language_info": {
   "codemirror_mode": {
    "name": "ipython",
    "version": 3
   },
   "file_extension": ".py",
   "mimetype": "text/x-python",
   "name": "python",
   "nbconvert_exporter": "python",
   "pygments_lexer": "ipython3",
   "version": "3.10.11"
  },
  "orig_nbformat": 4
 },
 "nbformat": 4,
 "nbformat_minor": 2
}
